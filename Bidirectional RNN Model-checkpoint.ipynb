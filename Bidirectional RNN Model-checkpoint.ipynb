{
 "cells": [
  {
   "cell_type": "code",
   "execution_count": 1,
   "id": "bb04e34b",
   "metadata": {},
   "outputs": [],
   "source": [
    "# (1) Importing the Required Libraries;\n",
    "\n",
    "import tensorflow as tf\n",
    "import matplotlib.pyplot as plt\n",
    "import numpy as np"
   ]
  },
  {
   "cell_type": "code",
   "execution_count": 2,
   "id": "6de31dc5",
   "metadata": {
    "scrolled": true
   },
   "outputs": [
    {
     "name": "stdout",
     "output_type": "stream",
     "text": [
      "Downloading data from https://storage.googleapis.com/tensorflow/tf-keras-datasets/imdb.npz\n",
      "\u001b[1m17464789/17464789\u001b[0m \u001b[32m━━━━━━━━━━━━━━━━━━━━\u001b[0m\u001b[37m\u001b[0m \u001b[1m5s\u001b[0m 0us/step\n"
     ]
    }
   ],
   "source": [
    "# (2) Load the IMDB Reviews dataset;\n",
    "\n",
    "(x_train, y_train), (x_test, y_test) = tf.keras.datasets.imdb.load_data(num_words=10000)"
   ]
  },
  {
   "cell_type": "code",
   "execution_count": 3,
   "id": "20984ddd",
   "metadata": {},
   "outputs": [],
   "source": [
    "# (3) Pad the sequences to have equal length;\n",
    "\n",
    "max_len = 500\n",
    "\n",
    "x_train = tf.keras.preprocessing.sequence.pad_sequences(x_train, maxlen=max_len)\n",
    "\n",
    "x_test = tf.keras.preprocessing.sequence.pad_sequences(x_test, maxlen=max_len)"
   ]
  },
  {
   "cell_type": "markdown",
   "id": "9d8df961",
   "metadata": {},
   "source": [
    "#                  Build the Model"
   ]
  },
  {
   "cell_type": "code",
   "execution_count": 4,
   "id": "cf499316",
   "metadata": {},
   "outputs": [],
   "source": [
    "# (4) Set the input and output dimensions;\n",
    "\n",
    "input_dim = 10000\n",
    "output_dim = 1"
   ]
  },
  {
   "cell_type": "code",
   "execution_count": 5,
   "id": "99175b55",
   "metadata": {},
   "outputs": [],
   "source": [
    "# (5) Create the input layer;\n",
    "\n",
    "inputs = tf.keras.Input(shape=(None,), dtype=\"int32\")"
   ]
  },
  {
   "cell_type": "code",
   "execution_count": 6,
   "id": "c00a7b67",
   "metadata": {},
   "outputs": [],
   "source": [
    "# (6) Create the model;\n",
    "\n",
    "x = tf.keras.layers.Embedding(input_dim, 128)(inputs)\n",
    "\n",
    "x = tf.keras.layers.Bidirectional(tf.keras.layers.LSTM(64, return_sequences=True))(x)\n",
    "\n",
    "x = tf.keras.layers.Bidirectional(tf.keras.layers.LSTM(64))(x)\n",
    "\n",
    "outputs = tf.keras.layers.Dense(output_dim, activation=\"sigmoid\")(x)\n",
    "\n",
    "model = tf.keras.Model(inputs, outputs)"
   ]
  },
  {
   "cell_type": "code",
   "execution_count": 7,
   "id": "fc5a2274",
   "metadata": {},
   "outputs": [],
   "source": [
    "# (7) Compile the model;\n",
    "\n",
    "model.compile(\"adam\", \"binary_crossentropy\", metrics=[\"accuracy\"])"
   ]
  },
  {
   "cell_type": "markdown",
   "id": "abe4734f",
   "metadata": {},
   "source": [
    "#                          Train"
   ]
  },
  {
   "cell_type": "code",
   "execution_count": null,
   "id": "555b1573",
   "metadata": {},
   "outputs": [
    {
     "name": "stdout",
     "output_type": "stream",
     "text": [
      "Epoch 1/5\n",
      "\u001b[1m465/782\u001b[0m \u001b[32m━━━━━━━━━━━\u001b[0m\u001b[37m━━━━━━━━━\u001b[0m \u001b[1m3:40\u001b[0m 695ms/step - accuracy: 0.6738 - loss: 0.5795"
     ]
    }
   ],
   "source": [
    "# (8) Train the model;\n",
    "\n",
    "batch_size = 32\n",
    "\n",
    "epochs = 5\n",
    "\n",
    "history = model.fit(x_train, y_train, batch_size=batch_size, epochs=epochs, validation_data=(x_test, y_test))"
   ]
  },
  {
   "cell_type": "markdown",
   "id": "559fb7d4",
   "metadata": {},
   "source": [
    "#                        Accuracy"
   ]
  },
  {
   "cell_type": "code",
   "execution_count": null,
   "id": "e82af404",
   "metadata": {},
   "outputs": [],
   "source": [
    "# (9) Plot the Accuracy;\n",
    "\n",
    "fig = plt.plot(history.history['accuracy'])\n",
    "title = plt.title(\"History\")\n",
    "xlabel = plt.xlabel(\"Epochs\")\n",
    "ylabel = plt.ylabel(\"Accuracy\")"
   ]
  },
  {
   "cell_type": "markdown",
   "id": "e5d151fd",
   "metadata": {},
   "source": [
    "#                          Predict"
   ]
  },
  {
   "cell_type": "code",
   "execution_count": null,
   "id": "d759c1fd",
   "metadata": {},
   "outputs": [],
   "source": [
    "# (10) Prediction Data;\n",
    "\n",
    "predictions = model.predict(x_test[:4])\n",
    "\n",
    "for pred in predictions:\n",
    "    print(np.argmax(pred))"
   ]
  },
  {
   "cell_type": "code",
   "execution_count": null,
   "id": "53ea1796",
   "metadata": {},
   "outputs": [],
   "source": []
  }
 ],
 "metadata": {
  "kernelspec": {
   "display_name": "Python 3 (ipykernel)",
   "language": "python",
   "name": "python3"
  },
  "language_info": {
   "codemirror_mode": {
    "name": "ipython",
    "version": 3
   },
   "file_extension": ".py",
   "mimetype": "text/x-python",
   "name": "python",
   "nbconvert_exporter": "python",
   "pygments_lexer": "ipython3",
   "version": "3.12.5"
  }
 },
 "nbformat": 4,
 "nbformat_minor": 5
}
