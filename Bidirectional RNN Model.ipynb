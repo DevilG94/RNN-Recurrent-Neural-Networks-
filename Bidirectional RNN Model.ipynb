{
 "cells": [
  {
   "cell_type": "code",
   "execution_count": 1,
   "id": "bb04e34b",
   "metadata": {},
   "outputs": [],
   "source": [
    "# (1) Importing the Required Libraries;\n",
    "\n",
    "import tensorflow as tf\n",
    "import matplotlib.pyplot as plt\n",
    "import numpy as np"
   ]
  },
  {
   "cell_type": "code",
   "execution_count": 2,
   "id": "6de31dc5",
   "metadata": {
    "scrolled": true
   },
   "outputs": [],
   "source": [
    "# (2) Load the IMDB Reviews dataset;\n",
    "\n",
    "(x_train, y_train), (x_test, y_test) = tf.keras.datasets.imdb.load_data(num_words=10000)"
   ]
  },
  {
   "cell_type": "code",
   "execution_count": 3,
   "id": "20984ddd",
   "metadata": {},
   "outputs": [],
   "source": [
    "# (3) Pad the sequences to have equal length;\n",
    "\n",
    "max_len = 500\n",
    "\n",
    "x_train = tf.keras.preprocessing.sequence.pad_sequences(x_train, maxlen=max_len)\n",
    "\n",
    "x_test = tf.keras.preprocessing.sequence.pad_sequences(x_test, maxlen=max_len)"
   ]
  },
  {
   "cell_type": "markdown",
   "id": "9d8df961",
   "metadata": {},
   "source": [
    "#                  Build the Model"
   ]
  },
  {
   "cell_type": "code",
   "execution_count": 4,
   "id": "cf499316",
   "metadata": {},
   "outputs": [],
   "source": [
    "# (4) Set the input and output dimensions;\n",
    "\n",
    "input_dim = 10000\n",
    "output_dim = 1"
   ]
  },
  {
   "cell_type": "code",
   "execution_count": 5,
   "id": "99175b55",
   "metadata": {},
   "outputs": [],
   "source": [
    "# (5) Create the input layer;\n",
    "\n",
    "inputs = tf.keras.Input(shape=(None,), dtype=\"int32\")"
   ]
  },
  {
   "cell_type": "code",
   "execution_count": 6,
   "id": "c00a7b67",
   "metadata": {},
   "outputs": [],
   "source": [
    "# (6) Create the model;\n",
    "\n",
    "x = tf.keras.layers.Embedding(input_dim, 128)(inputs)\n",
    "\n",
    "x = tf.keras.layers.Bidirectional(tf.keras.layers.LSTM(64, return_sequences=True))(x)\n",
    "\n",
    "x = tf.keras.layers.Bidirectional(tf.keras.layers.LSTM(64))(x)\n",
    "\n",
    "outputs = tf.keras.layers.Dense(output_dim, activation=\"sigmoid\")(x)\n",
    "\n",
    "model = tf.keras.Model(inputs, outputs)"
   ]
  },
  {
   "cell_type": "code",
   "execution_count": 7,
   "id": "fc5a2274",
   "metadata": {},
   "outputs": [],
   "source": [
    "# (7) Compile the model;\n",
    "\n",
    "model.compile(\"adam\", \"binary_crossentropy\", metrics=[\"accuracy\"])"
   ]
  },
  {
   "cell_type": "markdown",
   "id": "abe4734f",
   "metadata": {},
   "source": [
    "#                          Train"
   ]
  },
  {
   "cell_type": "code",
   "execution_count": 8,
   "id": "555b1573",
   "metadata": {},
   "outputs": [
    {
     "name": "stdout",
     "output_type": "stream",
     "text": [
      "Epoch 1/5\n",
      "782/782 [==============================] - 892s 1s/step - loss: 0.3941 - accuracy: 0.8189 - val_loss: 0.3002 - val_accuracy: 0.8730\n",
      "Epoch 2/5\n",
      "782/782 [==============================] - 846s 1s/step - loss: 0.3918 - accuracy: 0.8178 - val_loss: 0.5058 - val_accuracy: 0.7415\n",
      "Epoch 3/5\n",
      "782/782 [==============================] - 1355s 2s/step - loss: 0.3827 - accuracy: 0.8264 - val_loss: 0.4032 - val_accuracy: 0.8256\n",
      "Epoch 4/5\n",
      "782/782 [==============================] - 1393s 2s/step - loss: 0.2215 - accuracy: 0.9141 - val_loss: 0.3305 - val_accuracy: 0.8690\n",
      "Epoch 5/5\n",
      "782/782 [==============================] - 870s 1s/step - loss: 0.1489 - accuracy: 0.9445 - val_loss: 0.3692 - val_accuracy: 0.8647\n"
     ]
    }
   ],
   "source": [
    "# (8) Train the model;\n",
    "\n",
    "batch_size = 32\n",
    "\n",
    "epochs = 5\n",
    "\n",
    "history = model.fit(x_train, y_train, batch_size=batch_size, epochs=epochs, validation_data=(x_test, y_test))"
   ]
  },
  {
   "cell_type": "markdown",
   "id": "559fb7d4",
   "metadata": {},
   "source": [
    "#                        Accuracy"
   ]
  },
  {
   "cell_type": "code",
   "execution_count": 9,
   "id": "e82af404",
   "metadata": {},
   "outputs": [
    {
     "data": {
      "image/png": "[encoded data removed]",
      "text/plain": [
       "<Figure size 640x480 with 1 Axes>"
      ]
     },
     "metadata": {},
     "output_type": "display_data"
    }
   ],
   "source": [
    "# (9) Plot the Accuracy;\n",
    "\n",
    "fig = plt.plot(history.history['accuracy'])\n",
    "title = plt.title(\"History\")\n",
    "xlabel = plt.xlabel(\"Epochs\")\n",
    "ylabel = plt.ylabel(\"Accuracy\")"
   ]
  },
  {
   "cell_type": "markdown",
   "id": "e5d151fd",
   "metadata": {},
   "source": [
    "#                          Predict"
   ]
  },
  {
   "cell_type": "code",
   "execution_count": 10,
   "id": "d759c1fd",
   "metadata": {},
   "outputs": [
    {
     "name": "stdout",
     "output_type": "stream",
     "text": [
      "1/1 [==============================] - 2s 2s/step\n",
      "0\n",
      "0\n",
      "0\n",
      "0\n"
     ]
    }
   ],
   "source": [
    "# (10) Prediction Data;\n",
    "\n",
    "predictions = model.predict(x_test[:4])\n",
    "\n",
    "for pred in predictions:\n",
    "    print(np.argmax(pred))"
   ]
  },
  {
   "cell_type": "code",
   "execution_count": null,
   "id": "53ea1796",
   "metadata": {},
   "outputs": [],
   "source": []
  }
 ],
 "metadata": {
  "kernelspec": {
   "display_name": "Python 3 (ipykernel)",
   "language": "python",
   "name": "python3"
  },
  "language_info": {
   "codemirror_mode": {
    "name": "ipython",
    "version": 3
   },
   "file_extension": ".py",
   "mimetype": "text/x-python",
   "name": "python",
   "nbconvert_exporter": "python",
   "pygments_lexer": "ipython3",
   "version": "3.12.4"
  }
 },
 "nbformat": 4,
 "nbformat_minor": 5
}
